{
 "cells": [
  {
   "cell_type": "code",
   "execution_count": 46,
   "id": "8823625e-4261-4a21-b3f7-b468d391c11f",
   "metadata": {},
   "outputs": [],
   "source": [
    "import pandas as pd\n",
    "import networkx as nx\n",
    "import matplotlib.pyplot as plt\n",
    "from collections import Counter\n",
    "import itertools\n",
    "\n",
    "G = nx.read_gml(\"GraphMissingEdges.gml\")"
   ]
  },
  {
   "cell_type": "code",
   "execution_count": 47,
   "id": "b91ee66d-8d13-4bbc-b5fd-98b1a8c08c93",
   "metadata": {},
   "outputs": [
    {
     "name": "stdout",
     "output_type": "stream",
     "text": [
      "Number of nodes: 4575\n",
      "Number of edges: 18991\n"
     ]
    }
   ],
   "source": [
    "print(\"Number of nodes:\", len(G.nodes))\n",
    "print(\"Number of edges:\", len(G.edges))"
   ]
  },
  {
   "cell_type": "code",
   "execution_count": 64,
   "id": "c19e5ab3-47c9-4f66-a52b-6df6a2ffafc1",
   "metadata": {},
   "outputs": [
    {
     "name": "stdout",
     "output_type": "stream",
     "text": [
      "Attributes of each node:\n",
      "{'longitude': -79.952564, 'latitude': 40.481878, 'categories': '327,518', 'stars': '4.5', 'name': 'The Cigar Den', 'reviewCount': '28'}\n"
     ]
    }
   ],
   "source": [
    "print(\"Attributes of each node:\")\n",
    "print(G.nodes[list(G.nodes())[900]])"
   ]
  },
  {
   "cell_type": "code",
   "execution_count": 49,
   "id": "a1b9d00f-45cf-4c4b-815b-440d830e7050",
   "metadata": {},
   "outputs": [
    {
     "name": "stdout",
     "output_type": "stream",
     "text": [
      "Attributes of each edge:\n",
      "{'weight': 1}\n"
     ]
    }
   ],
   "source": [
    "print(\"Attributes of each edge:\")\n",
    "print(G.edges[list(G.edges())[20]])"
   ]
  },
  {
   "cell_type": "code",
   "execution_count": 50,
   "id": "95fd8342-269b-42b8-ab3f-a755bdc202bc",
   "metadata": {},
   "outputs": [
    {
     "name": "stdout",
     "output_type": "stream",
     "text": [
      "Average clustering: 0.04489358044799769\n"
     ]
    }
   ],
   "source": [
    "print(f\"Average clustering: {nx.average_clustering(G)}\")"
   ]
  },
  {
   "cell_type": "code",
   "execution_count": 51,
   "id": "daf31d9a-07c4-4e46-8e3a-b9a84a79c186",
   "metadata": {},
   "outputs": [
    {
     "name": "stdout",
     "output_type": "stream",
     "text": [
      "Top 10 categories:\n",
      "1      1681\n",
      "641     907\n",
      "327     731\n",
      "58      504\n",
      "275     467\n",
      "280     404\n",
      "839     364\n",
      "133     298\n",
      "289     290\n",
      "604     286\n",
      "Name: count, dtype: int64\n"
     ]
    }
   ],
   "source": [
    "all_categories = []\n",
    "for node, data in G.nodes(data=True):\n",
    "    cats = [c.strip() for c in data[\"categories\"].split(\",\")]\n",
    "    all_categories.extend(cats)\n",
    "\n",
    "cat_counts = pd.Series(all_categories).value_counts()\n",
    "\n",
    "print(\"Top 10 categories:\")\n",
    "print(cat_counts.head(10))"
   ]
  },
  {
   "cell_type": "code",
   "execution_count": 53,
   "id": "cdfd9cc7-fa07-4e62-81f1-cca7efce94d4",
   "metadata": {},
   "outputs": [
    {
     "name": "stdout",
     "output_type": "stream",
     "text": [
      "Top 10 connections:\n",
      "  CategoryPair  Count\n",
      "0       (1, 1)  10681\n",
      "1     (1, 641)   8983\n",
      "2      (1, 58)   7303\n",
      "3     (1, 275)   7105\n",
      "4     (1, 420)   4760\n",
      "5     (1, 604)   3947\n",
      "6    (58, 641)   2985\n",
      "7    (275, 58)   2955\n",
      "8   (275, 641)   2899\n",
      "9     (1, 289)   2853\n"
     ]
    }
   ],
   "source": [
    "cat_edges = Counter()\n",
    "for u, v in G.edges():\n",
    "    cats_u = [c.strip() for c in G.nodes[u][\"categories\"].split(\",\")]\n",
    "    cats_v = [c.strip() for c in G.nodes[v][\"categories\"].split(\",\")]\n",
    "    for cu in cats_u:\n",
    "        for cv in cats_v:\n",
    "            if cu != \"\" and cv != \"\":\n",
    "                pair = tuple(sorted([cu, cv]))\n",
    "                cat_edges[pair] += 1\n",
    "\n",
    "cat_edges_df = pd.DataFrame(cat_edges.items(), columns=[\"Connection\", \"Count\"])\n",
    "cat_edges_df = cat_edges_df.sort_values(\"Count\", ascending=False).reset_index(drop=True)\n",
    "print(\"Top 10 category-category connections:\")\n",
    "print(cat_edges_df.head(10))"
   ]
  },
  {
   "cell_type": "code",
   "execution_count": 66,
   "id": "c3c5794e-aea4-4fe1-a00b-7dfb140555f8",
   "metadata": {},
   "outputs": [
    {
     "name": "stdout",
     "output_type": "stream",
     "text": [
      "Top 10 star-star connections:\n",
      "  Connection  Count\n",
      "0     (., 4)  21896\n",
      "1     (., 5)  21305\n",
      "2     (., .)  18991\n",
      "3     (., 0)  17922\n",
      "4     (., 3)  12580\n",
      "5     (4, 5)  12353\n",
      "6     (0, 4)  10280\n",
      "7     (0, 5)   9793\n",
      "8     (3, 5)   6965\n",
      "9     (3, 4)   6792\n"
     ]
    }
   ],
   "source": [
    "star_edges = Counter()\n",
    "for u, v in G.edges():\n",
    "    stars_u = G.nodes[u][\"stars\"]\n",
    "    stars_v = G.nodes[v][\"stars\"]\n",
    "    \n",
    "    if stars_u != \"\" and stars_v != \"\":\n",
    "        pair = tuple(sorted([stars_u, stars_v]))\n",
    "        star_edges[pair] += 1\n",
    "    \n",
    "star_edges_df = pd.DataFrame(star_edges.items(), columns=[\"Connection\", \"Count\"])\n",
    "star_edges_df = cat_edges_df.sort_values(\"Count\", ascending=False).reset_index(drop=True)\n",
    "print(\"Top 10 star-star connections:\")\n",
    "print(cat_edges_df.head(10))"
   ]
  },
  {
   "cell_type": "code",
   "execution_count": 68,
   "id": "c5a7e9ea-73b9-4338-a092-e31927698a18",
   "metadata": {},
   "outputs": [
    {
     "name": "stdout",
     "output_type": "stream",
     "text": [
      "Top 10 review-count connections:\n",
      "Empty DataFrame\n",
      "Columns: [Connection, Count]\n",
      "Index: []\n"
     ]
    }
   ],
   "source": [
    "review_count_edges = Counter()\n",
    "for u, v in G.edges():\n",
    "    rc_u = G.nodes[u][\"reviewCount\"]\n",
    "    rc_v = G.nodes[v][\"reviewCount\"]\n",
    "    \n",
    "    if rc_u != \"\" and rc_v != \"\":\n",
    "        pair = tuple(sorted([rc_u, rc_v]))\n",
    "        review_count_edges[pair] += 1\n",
    "    \n",
    "review_count_edges_df = pd.DataFrame(review_count_edges.items(), columns=[\"Connection\", \"Count\"])\n",
    "review_count_edges_df = review_count_edges_df.sort_values(\"Count\", ascending=False).reset_index(drop=True)\n",
    "print(\"Top 10 review-count connections:\")\n",
    "print(review_count_edges_df.head(10))"
   ]
  },
  {
   "cell_type": "code",
   "execution_count": null,
   "id": "3bcfb980-f1d6-4a57-bcad-18f29a203ec2",
   "metadata": {},
   "outputs": [],
   "source": []
  }
 ],
 "metadata": {
  "kernelspec": {
   "display_name": "Python 3 (ipykernel)",
   "language": "python",
   "name": "python3"
  },
  "language_info": {
   "codemirror_mode": {
    "name": "ipython",
    "version": 3
   },
   "file_extension": ".py",
   "mimetype": "text/x-python",
   "name": "python",
   "nbconvert_exporter": "python",
   "pygments_lexer": "ipython3",
   "version": "3.12.0"
  }
 },
 "nbformat": 4,
 "nbformat_minor": 5
}
