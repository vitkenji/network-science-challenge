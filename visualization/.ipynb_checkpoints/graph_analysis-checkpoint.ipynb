{
 "cells": [
  {
   "cell_type": "code",
   "execution_count": 33,
   "id": "8823625e-4261-4a21-b3f7-b468d391c11f",
   "metadata": {},
   "outputs": [],
   "source": [
    "import pandas as pd\n",
    "import networkx as nx\n",
    "import matplotlib.pyplot as plt\n",
    "from collections import Counter\n",
    "import itertools\n",
    "import seaborn as sns\n",
    "\n",
    "G = nx.read_gml(\"GraphMissingEdges.gml\")"
   ]
  },
  {
   "cell_type": "code",
   "execution_count": 34,
   "id": "b91ee66d-8d13-4bbc-b5fd-98b1a8c08c93",
   "metadata": {},
   "outputs": [
    {
     "name": "stdout",
     "output_type": "stream",
     "text": [
      "Number of nodes: 4575\n",
      "Number of edges: 18991\n"
     ]
    }
   ],
   "source": [
    "print(\"Number of nodes:\", len(G.nodes))\n",
    "print(\"Number of edges:\", len(G.edges))"
   ]
  },
  {
   "cell_type": "code",
   "execution_count": 35,
   "id": "c19e5ab3-47c9-4f66-a52b-6df6a2ffafc1",
   "metadata": {},
   "outputs": [
    {
     "name": "stdout",
     "output_type": "stream",
     "text": [
      "Attributes of each node:\n",
      "{'longitude': -79.952564, 'latitude': 40.481878, 'categories': '327,518', 'stars': '4.5', 'name': 'The Cigar Den', 'reviewCount': '28'}\n"
     ]
    }
   ],
   "source": [
    "print(\"Attributes of each node:\")\n",
    "print(G.nodes[list(G.nodes())[900]])"
   ]
  },
  {
   "cell_type": "code",
   "execution_count": 36,
   "id": "a1b9d00f-45cf-4c4b-815b-440d830e7050",
   "metadata": {},
   "outputs": [
    {
     "name": "stdout",
     "output_type": "stream",
     "text": [
      "Attributes of each edge:\n",
      "{'weight': 1}\n"
     ]
    }
   ],
   "source": [
    "print(\"Attributes of each edge:\")\n",
    "print(G.edges[list(G.edges())[20]])"
   ]
  },
  {
   "cell_type": "code",
   "execution_count": 37,
   "id": "95fd8342-269b-42b8-ab3f-a755bdc202bc",
   "metadata": {},
   "outputs": [
    {
     "name": "stdout",
     "output_type": "stream",
     "text": [
      "Average clustering: 0.04489358044799769\n"
     ]
    }
   ],
   "source": [
    "print(f\"Average clustering: {nx.average_clustering(G)}\")"
   ]
  },
  {
   "cell_type": "code",
   "execution_count": 38,
   "id": "daf31d9a-07c4-4e46-8e3a-b9a84a79c186",
   "metadata": {},
   "outputs": [
    {
     "name": "stdout",
     "output_type": "stream",
     "text": [
      "Top 10 categories:\n",
      "1      1681\n",
      "641     907\n",
      "327     731\n",
      "58      504\n",
      "275     467\n",
      "280     404\n",
      "839     364\n",
      "133     298\n",
      "289     290\n",
      "604     286\n",
      "Name: count, dtype: int64\n"
     ]
    }
   ],
   "source": [
    "all_categories = []\n",
    "for node, data in G.nodes(data=True):\n",
    "    cats = [c.strip() for c in data[\"categories\"].split(\",\")]\n",
    "    all_categories.extend(cats)\n",
    "\n",
    "cat_counts = pd.Series(all_categories).value_counts()\n",
    "\n",
    "print(\"Top 10 categories:\")\n",
    "print(cat_counts.head(10))"
   ]
  },
  {
   "cell_type": "code",
   "execution_count": 39,
   "id": "cdfd9cc7-fa07-4e62-81f1-cca7efce94d4",
   "metadata": {},
   "outputs": [
    {
     "name": "stdout",
     "output_type": "stream",
     "text": [
      "Top 10 category-category connections:\n",
      "   Connection  Count\n",
      "0      (1, 1)  10681\n",
      "1    (1, 641)   8983\n",
      "2     (1, 58)   7303\n",
      "3    (1, 275)   7105\n",
      "4    (1, 420)   4760\n",
      "5    (1, 604)   3947\n",
      "6   (58, 641)   2985\n",
      "7   (275, 58)   2955\n",
      "8  (275, 641)   2899\n",
      "9    (1, 289)   2853\n"
     ]
    }
   ],
   "source": [
    "cat_edges = Counter()\n",
    "for u, v in G.edges():\n",
    "    cats_u = [c.strip() for c in G.nodes[u][\"categories\"].split(\",\")]\n",
    "    cats_v = [c.strip() for c in G.nodes[v][\"categories\"].split(\",\")]\n",
    "    for cu in cats_u:\n",
    "        for cv in cats_v:\n",
    "            if cu != \"\" and cv != \"\":\n",
    "                pair = tuple(sorted([cu, cv]))\n",
    "                cat_edges[pair] += 1\n",
    "\n",
    "cat_edges_df = pd.DataFrame(cat_edges.items(), columns=[\"Connection\", \"Count\"])\n",
    "cat_edges_df = cat_edges_df.sort_values(\"Count\", ascending=False).reset_index(drop=True)\n",
    "print(\"Top 10 category-category connections:\")\n",
    "print(cat_edges_df.head(10))"
   ]
  },
  {
   "cell_type": "code",
   "execution_count": 40,
   "id": "c3c5794e-aea4-4fe1-a00b-7dfb140555f8",
   "metadata": {},
   "outputs": [
    {
     "name": "stdout",
     "output_type": "stream",
     "text": [
      "Top 10 star-star connections:\n",
      "   Connection  Count\n",
      "0      (1, 1)  10681\n",
      "1    (1, 641)   8983\n",
      "2     (1, 58)   7303\n",
      "3    (1, 275)   7105\n",
      "4    (1, 420)   4760\n",
      "5    (1, 604)   3947\n",
      "6   (58, 641)   2985\n",
      "7   (275, 58)   2955\n",
      "8  (275, 641)   2899\n",
      "9    (1, 289)   2853\n"
     ]
    }
   ],
   "source": [
    "star_edges = Counter()\n",
    "for u, v in G.edges():\n",
    "    stars_u = G.nodes[u][\"stars\"]\n",
    "    stars_v = G.nodes[v][\"stars\"]\n",
    "    \n",
    "    if stars_u != \"\" and stars_v != \"\":\n",
    "        pair = tuple(sorted([stars_u, stars_v]))\n",
    "        star_edges[pair] += 1\n",
    "    \n",
    "star_edges_df = pd.DataFrame(star_edges.items(), columns=[\"Connection\", \"Count\"])\n",
    "star_edges_df = cat_edges_df.sort_values(\"Count\", ascending=False).reset_index(drop=True)\n",
    "print(\"Top 10 star-star connections:\")\n",
    "print(cat_edges_df.head(10))"
   ]
  },
  {
   "cell_type": "code",
   "execution_count": 41,
   "id": "c5a7e9ea-73b9-4338-a092-e31927698a18",
   "metadata": {},
   "outputs": [
    {
     "name": "stdout",
     "output_type": "stream",
     "text": [
      "Top 10 review-count connections:\n",
      "  Connection  Count\n",
      "0     (3, 3)     20\n",
      "1     (3, 4)     19\n",
      "2     (3, 5)     17\n",
      "3   (15, 15)     14\n",
      "4     (4, 5)     14\n",
      "5     (5, 5)     11\n",
      "6     (6, 8)     11\n",
      "7     (6, 6)     10\n",
      "8   (18, 18)     10\n",
      "9     (4, 4)      9\n"
     ]
    }
   ],
   "source": [
    "review_count_edges = Counter()\n",
    "for u, v in G.edges():\n",
    "    rc_u = G.nodes[u][\"reviewCount\"]\n",
    "    rc_v = G.nodes[v][\"reviewCount\"]\n",
    "    \n",
    "    if rc_u != \"\" and rc_v != \"\":\n",
    "        pair = tuple(sorted([rc_u, rc_v]))\n",
    "        review_count_edges[pair] += 1\n",
    "    \n",
    "review_count_edges_df = pd.DataFrame(review_count_edges.items(), columns=[\"Connection\", \"Count\"])\n",
    "review_count_edges_df = review_count_edges_df.sort_values(\"Count\", ascending=False).reset_index(drop=True)\n",
    "print(\"Top 10 review-count connections:\")\n",
    "print(review_count_edges_df.head(10))"
   ]
  },
  {
   "cell_type": "code",
   "execution_count": 42,
   "id": "0c52eb89-92e3-4c3f-b8c9-c85c517fdba4",
   "metadata": {},
   "outputs": [
    {
     "data": {
      "image/png": "[encoded data removed]",
      "text/plain": [
       "<Figure size 640x480 with 1 Axes>"
      ]
     },
     "metadata": {},
     "output_type": "display_data"
    }
   ],
   "source": [
    "degrees = [d for n, d in G.degree()]\n",
    "plt.hist(degrees, bins=10)\n",
    "plt.xlabel(\"Degree\")\n",
    "plt.ylabel(\"Number of nodes\")\n",
    "\n",
    "plt.show()"
   ]
  },
  {
   "cell_type": "code",
   "execution_count": 43,
   "id": "f3c07670-4da7-4b54-b776-1a78c6cb2075",
   "metadata": {},
   "outputs": [
    {
     "ename": "NameError",
     "evalue": "name 'degree_centrality' is not defined",
     "output_type": "error",
     "traceback": [
      "\u001b[31m---------------------------------------------------------------------------\u001b[39m",
      "\u001b[31mNameError\u001b[39m                                 Traceback (most recent call last)",
      "\u001b[36mCell\u001b[39m\u001b[36m \u001b[39m\u001b[32mIn[43]\u001b[39m\u001b[32m, line 3\u001b[39m\n\u001b[32m      1\u001b[39m df_nodes = pd.DataFrame.from_dict(\u001b[38;5;28mdict\u001b[39m(G.nodes(data=\u001b[38;5;28;01mTrue\u001b[39;00m)), orient=\u001b[33m\"\u001b[39m\u001b[33mindex\u001b[39m\u001b[33m\"\u001b[39m)\n\u001b[32m      2\u001b[39m df_nodes[\u001b[33m\"\u001b[39m\u001b[33mdegree\u001b[39m\u001b[33m\"\u001b[39m] = [G.degree(n) \u001b[38;5;28;01mfor\u001b[39;00m n \u001b[38;5;129;01min\u001b[39;00m G.nodes()]\n\u001b[32m----> \u001b[39m\u001b[32m3\u001b[39m df_nodes[\u001b[33m\"\u001b[39m\u001b[33mdegree_centrality\u001b[39m\u001b[33m\"\u001b[39m] = [\u001b[43mdegree_centrality\u001b[49m[n] \u001b[38;5;28;01mfor\u001b[39;00m n \u001b[38;5;129;01min\u001b[39;00m G.nodes()]\n\u001b[32m      4\u001b[39m df_nodes[\u001b[33m\"\u001b[39m\u001b[33mbetweenness_centrality\u001b[39m\u001b[33m\"\u001b[39m] = [betweenness_centrality[n] \u001b[38;5;28;01mfor\u001b[39;00m n \u001b[38;5;129;01min\u001b[39;00m G.nodes()]\n\u001b[32m      5\u001b[39m df_nodes[\u001b[33m\"\u001b[39m\u001b[33mcloseness_centrality\u001b[39m\u001b[33m\"\u001b[39m] = [closeness_centrality[n] \u001b[38;5;28;01mfor\u001b[39;00m n \u001b[38;5;129;01min\u001b[39;00m G.nodes()]\n",
      "\u001b[31mNameError\u001b[39m: name 'degree_centrality' is not defined"
     ]
    }
   ],
   "source": [
    "degree_centrality = nx.degree_centrality(G)\n",
    "betweenness_centrality = nx.betweenness_centrality(G, k=1000)  # Sample para grafos grandes\n",
    "closeness_centrality = nx.closeness_centrality(G)\n",
    "\n",
    "df_nodes = pd.DataFrame.from_dict(dict(G.nodes(data=True)), orient=\"index\")\n",
    "df_nodes[\"degree\"] = [G.degree(n) for n in G.nodes()]\n",
    "df_nodes[\"degree_centrality\"] = [degree_centrality[n] for n in G.nodes()]\n",
    "df_nodes[\"betweenness_centrality\"] = [betweenness_centrality[n] for n in G.nodes()]\n",
    "df_nodes[\"closeness_centrality\"] = [closeness_centrality[n] for n in G.nodes()]\n",
    "\n",
    "df_nodes[\"stars\"] = pd.to_numeric(df_nodes[\"stars\"], errors=\"coerce\")\n",
    "df_nodes[\"reviewCount\"] = pd.to_numeric(df_nodes[\"reviewCount\"], errors=\"coerce\")\n",
    "\n",
    "df_nodes[\"num_categories\"] = df_nodes[\"categories\"].apply(lambda x: len([c.strip() for c in x.split(\",\") if c.strip()]))\n",
    "df_nodes[\"primary_category\"] = df_nodes[\"categories\"].apply(lambda x: x.split(\",\")[0].strip() if x.strip() else \"Unknown\")"
   ]
  },
  {
   "cell_type": "code",
   "execution_count": null,
   "id": "16245abd-9dc3-4e71-a657-712e50e00364",
   "metadata": {},
   "outputs": [],
   "source": [
    "fig, axes = plt.subplots(2, 3, figsize=(18, 12))\n",
    "\n",
    "axes[0,0].hist(df_nodes[\"degree\"], bins=50, alpha=0.7, edgecolor='black')\n",
    "axes[0,0].set_xlabel('Grau')\n",
    "axes[0,0].set_ylabel('Frequência')\n",
    "axes[0,0].set_title('Distribuição de Graus')\n",
    "axes[0,0].set_yscale('log')\n",
    "\n",
    "axes[0,1].hist(df_nodes[\"stars\"].dropna(), bins=30, alpha=0.7, edgecolor='black')\n",
    "axes[0,1].set_xlabel('Stars')\n",
    "axes[0,1].set_ylabel('Frequência')\n",
    "axes[0,1].set_title('Distribuição de Avaliações (Stars)')\n",
    "\n",
    "valid_data = df_nodes.dropna(subset=['stars', 'reviewCount'])\n",
    "axes[0,2].scatter(valid_data[\"stars\"], valid_data[\"reviewCount\"], alpha=0.5, s=20)\n",
    "axes[0,2].set_xlabel('Stars')\n",
    "axes[0,2].set_ylabel('Review Count')\n",
    "axes[0,2].set_title('Stars vs Review Count')\n",
    "axes[0,2].set_yscale('log')\n",
    "\n",
    "axes[1,0].scatter(valid_data[\"stars\"], valid_data[\"degree\"], alpha=0.5, s=20)\n",
    "axes[1,0].set_xlabel('Stars')\n",
    "axes[1,0].set_ylabel('Degree')\n",
    "axes[1,0].set_title('Avaliação vs Conectividade')\n",
    "\n",
    "axes[1,1].hist(df_nodes[\"degree_centrality\"], bins=50, alpha=0.7, edgecolor='black')\n",
    "axes[1,1].set_xlabel('Degree Centrality')\n",
    "axes[1,1].set_ylabel('Frequência')\n",
    "axes[1,1].set_title('Distribuição de Centralidade de Grau')\n",
    "\n",
    "axes[1,2].hist(df_nodes[\"num_categories\"], bins=range(1, df_nodes[\"num_categories\"].max()+2), \n",
    "               alpha=0.7, edgecolor='black')\n",
    "axes[1,2].set_xlabel('Número de Categorias')\n",
    "axes[1,2].set_ylabel('Frequência')\n",
    "axes[1,2].set_title('Distribuição do Número de Categorias')\n",
    "\n",
    "plt.tight_layout()\n",
    "plt.show()"
   ]
  },
  {
   "cell_type": "code",
   "execution_count": null,
   "id": "52171e66-e074-4c70-aa80-4904f7fa6000",
   "metadata": {},
   "outputs": [],
   "source": []
  }
 ],
 "metadata": {
  "kernelspec": {
   "display_name": "Python 3 (ipykernel)",
   "language": "python",
   "name": "python3"
  },
  "language_info": {
   "codemirror_mode": {
    "name": "ipython",
    "version": 3
   },
   "file_extension": ".py",
   "mimetype": "text/x-python",
   "name": "python",
   "nbconvert_exporter": "python",
   "pygments_lexer": "ipython3",
   "version": "3.12.0"
  }
 },
 "nbformat": 4,
 "nbformat_minor": 5
}
